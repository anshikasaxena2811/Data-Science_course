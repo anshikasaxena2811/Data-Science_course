{
 "cells": [
  {
   "cell_type": "markdown",
   "id": "91377ef2-6839-4524-9168-22cd4d4476fd",
   "metadata": {},
   "source": [
    "# DATA SCIENCE MASTERS ASSIGNMENT 2 FEB\n"
   ]
  },
  {
   "cell_type": "markdown",
   "id": "3be7b885-45fa-4486-9a7e-7673c6b69a48",
   "metadata": {},
   "source": [
    " Que-1:\n",
    "for loop is used when the number of iterations is known, whereas execution is done in the while loop until the statement in the program is proved wrong"
   ]
  },
  {
   "cell_type": "code",
   "execution_count": 3,
   "id": "074ba5c9-69dd-45c7-8c5a-b873e0814025",
   "metadata": {},
   "outputs": [
    {
     "name": "stdout",
     "output_type": "stream",
     "text": [
      "for loop:-\n",
      "sum is:  55\n",
      "product is:  3628800\n",
      "while loop:-\n",
      "sum is:  55\n",
      "product is:  3628800\n"
     ]
    }
   ],
   "source": [
    "# q-2\n",
    "\n",
    "print(\"for loop:-\")\n",
    "sum=0\n",
    "pdt=1\n",
    "for i in range(1,11):\n",
    "    sum=sum+i\n",
    "    pdt=pdt*i\n",
    "print(\"sum is: \",sum)\n",
    "print(\"product is: \",pdt)\n",
    "print(\"while loop:-\")\n",
    "i=1\n",
    "sum=0\n",
    "pdt=1\n",
    "while i<11:\n",
    "    sum=sum+i\n",
    "    pdt=pdt*i\n",
    "    i=i+1\n",
    "print(\"sum is: \",sum)\n",
    "print(\"product is: \",pdt)\n",
    "    "
   ]
  },
  {
   "cell_type": "code",
   "execution_count": 1,
   "id": "77d9c8e9-3b7d-4bb7-af5d-7d8dd3e9143e",
   "metadata": {},
   "outputs": [
    {
     "name": "stdin",
     "output_type": "stream",
     "text": [
      "Enter the units of electricity consumed:  206\n"
     ]
    },
    {
     "name": "stdout",
     "output_type": "stream",
     "text": [
      "Total Electricity Bill: Rs. 1110.0\n"
     ]
    }
   ],
   "source": [
    "# q-3\n",
    "units = int(input(\"Enter the units of electricity consumed: \"))\n",
    "\n",
    "total_bill = 0\n",
    "\n",
    "if units <= 100:\n",
    "    total_bill = units * 4.5\n",
    "elif units <= 200:\n",
    "    total_bill = 100 * 4.5 + (units - 100) * 6\n",
    "elif units <= 300:\n",
    "    total_bill = 100 * 4.5 + 100 * 6 + (units - 200) * 10\n",
    "else:\n",
    "    total_bill = 100 * 4.5 + 100 * 6 + 100 * 10 + (units - 300) * 20\n",
    "\n",
    "print(\"Total Electricity Bill: Rs.\", total_bill)"
   ]
  },
  {
   "cell_type": "code",
   "execution_count": 17,
   "id": "a07e4691-c2a0-416a-950d-5568b4d7af95",
   "metadata": {},
   "outputs": [
    {
     "name": "stdout",
     "output_type": "stream",
     "text": [
      "using for loop:-\n",
      "[2, 4, 5, 6, 8, 10, 12, 14, 15, 16, 18, 20, 22, 24, 25, 26, 28, 30, 32, 34, 35, 36, 38, 40, 42, 44, 45, 46, 48, 50, 52, 54, 55, 56, 58, 60, 62, 64, 65, 66, 68, 70, 72, 74, 75, 76, 78, 80, 82, 84, 85, 86, 88, 90, 92, 94, 95, 96, 98, 100]\n",
      "using while loop:-\n",
      "[2, 4, 5, 6, 8, 10, 12, 14, 15, 16, 18, 20, 22, 24, 25, 26, 28, 30, 32, 34, 35, 36, 38, 40, 42, 44, 45, 46, 48, 50, 52, 54, 55, 56, 58, 60, 62, 64, 65, 66, 68, 70, 72, 74, 75, 76, 78, 80, 82, 84, 85, 86, 88, 90, 92, 94, 95, 96, 98, 100]\n"
     ]
    }
   ],
   "source": [
    "# q-4\n",
    "\n",
    "l=[]\n",
    "for i in range(1,101):\n",
    "    l.append(i)\n",
    "l1=[]\n",
    "for i in l:\n",
    "    if((i**3) %4==0 or (i**3) %5==0):\n",
    "        l1.append(i)\n",
    "print(\"using for loop:-\")\n",
    "print(l1)\n",
    "l2=[]\n",
    "i=1\n",
    "while i<=len(l):\n",
    "    if((i**3) %4==0 or (i**3) %5==0):\n",
    "        l2.append(i)\n",
    "    i=i+1\n",
    "print(\"using while loop:-\")\n",
    "print(l2)\n",
    "    "
   ]
  },
  {
   "cell_type": "code",
   "execution_count": 19,
   "id": "5c9b9d05-6de4-405b-b391-947440589d0d",
   "metadata": {},
   "outputs": [
    {
     "data": {
      "text/plain": [
       "11"
      ]
     },
     "execution_count": 19,
     "metadata": {},
     "output_type": "execute_result"
    }
   ],
   "source": [
    "# q-5\n",
    "\n",
    "count=0\n",
    "string = \"I want to become a data scientist\"\n",
    "for i in string:\n",
    "    if(i=='a' or i=='a' or i=='e' or i=='i' or i=='o' or i=='u' ):\n",
    "        count=count+1\n",
    "count"
   ]
  },
  {
   "cell_type": "code",
   "execution_count": null,
   "id": "fbb4d112-9b18-46dd-a698-974f96778519",
   "metadata": {},
   "outputs": [],
   "source": [
    "\n"
   ]
  }
 ],
 "metadata": {
  "kernelspec": {
   "display_name": "Python 3 (ipykernel)",
   "language": "python",
   "name": "python3"
  },
  "language_info": {
   "codemirror_mode": {
    "name": "ipython",
    "version": 3
   },
   "file_extension": ".py",
   "mimetype": "text/x-python",
   "name": "python",
   "nbconvert_exporter": "python",
   "pygments_lexer": "ipython3",
   "version": "3.10.8"
  }
 },
 "nbformat": 4,
 "nbformat_minor": 5
}
