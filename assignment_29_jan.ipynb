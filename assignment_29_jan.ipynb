{
 "cells": [
  {
   "cell_type": "markdown",
   "id": "3228cd82-1888-4b15-bd0a-6da4340bcc3b",
   "metadata": {},
   "source": [
    "Que-1: Guido Van Rossum "
   ]
  },
  {
   "cell_type": "markdown",
   "id": "85c8030b-f3c6-45dc-942f-9556c2a983fd",
   "metadata": {},
   "source": [
    "Que-2: Object-oriented programming and structured programming both.\n"
   ]
  },
  {
   "cell_type": "markdown",
   "id": "e8704cad-db74-4392-b825-5af60f0d2418",
   "metadata": {},
   "source": [
    "Que-3 : Yes ,python is case sensitive language."
   ]
  },
  {
   "cell_type": "markdown",
   "id": "6d7f7adc-457f-4460-ab3a-0c9346196735",
   "metadata": {},
   "source": [
    "Que-4:    .py"
   ]
  },
  {
   "cell_type": "markdown",
   "id": "7690b4ca-af2a-406e-b2fb-9180b4321e37",
   "metadata": {},
   "source": [
    "Que-5: Python is an interpreted language."
   ]
  },
  {
   "cell_type": "markdown",
   "id": "85ac90d8-f666-45ff-a84d-1a9bd77d90bb",
   "metadata": {},
   "source": [
    "Que-6:  A block is a piece of Python program text that is executed as a unit. \n",
    "       The following are blocks: a function body, and a class definition."
   ]
  },
  {
   "cell_type": "markdown",
   "id": "ca96f80c-5839-4532-a660-d36968c17a7f",
   "metadata": {},
   "source": [
    "Que-7: #"
   ]
  },
  {
   "cell_type": "markdown",
   "id": "bfc3bb4f-b8de-4d7a-835c-9e2159d6faa5",
   "metadata": {},
   "source": [
    "Que-8: Using sys.version method\n",
    "       Using python_version() function\n",
    "       Using Python -V command"
   ]
  },
  {
   "cell_type": "markdown",
   "id": "b8c68dda-afb5-40fb-8e2a-93b585e50a93",
   "metadata": {},
   "source": [
    "Que-9: lambda"
   ]
  },
  {
   "cell_type": "markdown",
   "id": "3b8e61b5-c35e-4caf-805b-184e55ef9d20",
   "metadata": {},
   "source": [
    "Que-10: pip Install Packages.\n",
    "        It the standard tool for installing Python packages.\n",
    "        "
   ]
  },
  {
   "cell_type": "markdown",
   "id": "46e3d9dc-368f-45b8-acda-a060025ec7c0",
   "metadata": {},
   "source": [
    "Que-11: abs(),ascii(),bool(),eval(),len(),max(),min(),pow() etc."
   ]
  },
  {
   "cell_type": "markdown",
   "id": "eabad0d6-6999-4409-857a-3998c7d9dd1e",
   "metadata": {},
   "source": [
    "Que-12: 79 characters"
   ]
  },
  {
   "cell_type": "markdown",
   "id": "ee9995c3-f7df-4fe1-b5c3-29b88d7b0df7",
   "metadata": {},
   "source": [
    "Que-13: \n",
    "    1.Easy to learn and use.\n",
    "\n",
    "    2.Interpreted language.\n",
    "\n",
    "    3.Hundred of libraries and framework.\n",
    "\n",
    "    4.Open source and large active.\n",
    "\n",
    "    5.User friendly data structures.\n",
    "\n",
    "    6.High level language."
   ]
  },
  {
   "cell_type": "markdown",
   "id": "1c7ec674-676d-4020-9d81-7ac1be132a09",
   "metadata": {},
   "source": [
    "Que-14:  Memory management in Python involves a private heap containing all Python objects and data structures. The management of this private heap is ensured internally by the Python memory manager."
   ]
  },
  {
   "cell_type": "markdown",
   "id": "69055b66-d57e-4a27-ab8d-675f007f3325",
   "metadata": {},
   "source": [
    "Que-15: Open a browser to the Python website and download the Windows installer. \n",
    "Double click on the downloaded file and install Python for all users, and ensure that Python is added to your path. Click on Install now to begin. The complete path of python.exe can be added by:\n",
    "\n",
    "Right-clicking This PC and going to Properties.\n",
    "Clicking on the Advanced system settings in the menu on the left.\n",
    "Clicking on the Environment Variables button on the bottom right.\n",
    "In the System variables section, selecting the Path variable and clicking on Edit. The next screen will show all the directories that are currently a part of the PATH variable.\n",
    "Clicking on New and entering Python’s install directory."
   ]
  }
 ],
 "metadata": {
  "kernelspec": {
   "display_name": "Python 3 (ipykernel)",
   "language": "python",
   "name": "python3"
  },
  "language_info": {
   "codemirror_mode": {
    "name": "ipython",
    "version": 3
   },
   "file_extension": ".py",
   "mimetype": "text/x-python",
   "name": "python",
   "nbconvert_exporter": "python",
   "pygments_lexer": "ipython3",
   "version": "3.10.8"
  }
 },
 "nbformat": 4,
 "nbformat_minor": 5
}
